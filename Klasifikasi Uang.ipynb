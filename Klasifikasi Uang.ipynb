{
 "cells": [
  {
   "cell_type": "code",
   "execution_count": 8,
   "metadata": {},
   "outputs": [],
   "source": [
    "import cv2\n",
    "import numpy as np\n",
    "cap = cv2.VideoCapture(0)\n",
    "\n",
    "templates= []\n",
    "tmplt_sizes = []\n",
    "\n",
    "templates.append(cv2.imread('_20000_01.jpg', 0))\n",
    "tmplt_sizes.append(templates[0].shape[::-1])\n",
    "\n",
    "templates.append(cv2.imread('_50000_01.jpg', 0))\n",
    "tmplt_sizes.append(templates[1].shape[::-1])\n",
    "\n",
    "templates.append(cv2.imread('_100000_01.jpg', 0))\n",
    "tmplt_sizes.append(templates[2].shape[::-1])\n",
    "\n",
    "threshold = 0.5\n",
    "\n",
    "\n",
    "while True:\n",
    "    ret, frame = cap.read()\n",
    "    rgb_img = frame\n",
    "    img = cv2.cvtColor(frame, cv2.COLOR_BGR2GRAY)   \n",
    "    \n",
    "    scores = []\n",
    "    detected = 0\n",
    "    for i in templates:\n",
    "                res = cv2.matchTemplate(img, i, cv2.TM_CCOEFF_NORMED)\n",
    "                loc = np.where(res >= threshold)\n",
    "                score = 0\n",
    "                for pt in zip(*loc[::-1]):\n",
    "                    score = score + 1\n",
    "                    detected = 1\n",
    "                    scores.append(score)\n",
    "    if detected:\n",
    "                img_class = scores.index(min(scores))\n",
    "                res = cv2.matchTemplate(img, templates[img_class], cv2.TM_CCOEFF_NORMED)\n",
    "                loc = np.where(res >= threshold)\n",
    "                for pt in zip(*loc[::-1]):\n",
    "                    rgb_img = cv2.rectangle(rgb_img, pt, \n",
    "                                            (pt[0] + tmplt_sizes[img_class][0], pt[1] + tmplt_sizes[img_class][1]),\n",
    "                                            (0, 0, 225),2)\n",
    "                position = (10, 50)\n",
    "                cv2.putText(rgb_img,('Uang '+ str(img_class)),position, cv2.FONT_HERSHEY_SIMPLEX,1,(255, 0, 0),3)\n",
    "\n",
    "    cv2.imshow(\"Template Matching\", frame)\n",
    "    if(cv2.waitKey(5) & 0xFF == ord('q')):\n",
    "        break\n",
    "    \n",
    "cap.release()\n",
    "cv2.destroyAllWindows() "
   ]
  },
  {
   "cell_type": "code",
   "execution_count": null,
   "metadata": {},
   "outputs": [],
   "source": []
  }
 ],
 "metadata": {
  "kernelspec": {
   "display_name": "Python 3",
   "language": "python",
   "name": "python3"
  },
  "language_info": {
   "codemirror_mode": {
    "name": "ipython",
    "version": 3
   },
   "file_extension": ".py",
   "mimetype": "text/x-python",
   "name": "python",
   "nbconvert_exporter": "python",
   "pygments_lexer": "ipython3",
   "version": "3.8.5"
  }
 },
 "nbformat": 4,
 "nbformat_minor": 2
}
